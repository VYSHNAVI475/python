{
  "nbformat": 4,
  "nbformat_minor": 0,
  "metadata": {
    "colab": {
      "name": "Sets.ipynb",
      "provenance": [],
      "authorship_tag": "ABX9TyPqO/+toNegxsnHo58NKRsO",
      "include_colab_link": true
    },
    "kernelspec": {
      "name": "python3",
      "display_name": "Python 3"
    },
    "language_info": {
      "name": "python"
    }
  },
  "cells": [
    {
      "cell_type": "markdown",
      "metadata": {
        "id": "view-in-github",
        "colab_type": "text"
      },
      "source": [
        "<a href=\"https://colab.research.google.com/github/VYSHNAVI475/python/blob/main/Sets.ipynb\" target=\"_parent\"><img src=\"https://colab.research.google.com/assets/colab-badge.svg\" alt=\"Open In Colab\"/></a>"
      ]
    },
    {
      "cell_type": "code",
      "execution_count": null,
      "metadata": {
        "colab": {
          "base_uri": "https://localhost:8080/"
        },
        "id": "x4l7ld5AAGxT",
        "outputId": "2c5e3f83-2217-4fff-e9cb-01c4c1ee4b74"
      },
      "outputs": [
        {
          "output_type": "stream",
          "name": "stdout",
          "text": [
            "{'lotus', 'sunflower', 'lilly', 'rose', 'jasmine'}\n"
          ]
        }
      ],
      "source": [
        "flowers={\"rose\",\"lilly\",\"jasmine\",\"sunflower\",\"lotus\"}\n",
        "print(flowers)"
      ]
    },
    {
      "cell_type": "code",
      "source": [
        "flowers={\"rose\",\"lilly\",\"jasmine\",\"sunflower\",\"lotus\"}\n",
        "print(len(flowers))"
      ],
      "metadata": {
        "colab": {
          "base_uri": "https://localhost:8080/"
        },
        "id": "t-jdc87JBSws",
        "outputId": "7dd64682-c434-4d46-fe97-fb37d8133849"
      },
      "execution_count": null,
      "outputs": [
        {
          "output_type": "stream",
          "name": "stdout",
          "text": [
            "5\n"
          ]
        }
      ]
    },
    {
      "cell_type": "code",
      "source": [
        "flowers={\"rose\",\"lilly\",\"jasmine\",\"rose\",\"lotus\"}\n",
        "print(flowers)"
      ],
      "metadata": {
        "colab": {
          "base_uri": "https://localhost:8080/"
        },
        "id": "T1C3o3SZBWxm",
        "outputId": "62fe441a-81c5-4abf-d7ce-e9dbc8310c3b"
      },
      "execution_count": null,
      "outputs": [
        {
          "output_type": "stream",
          "name": "stdout",
          "text": [
            "{'lilly', 'rose', 'jasmine', 'lotus'}\n"
          ]
        }
      ]
    },
    {
      "cell_type": "markdown",
      "source": [
        "## data types"
      ],
      "metadata": {
        "id": "tjuBveL_BlFV"
      }
    },
    {
      "cell_type": "code",
      "source": [
        "flowers={\"rose\",\"lilly\",\"jasmine\",\"sunflower\",\"lotus\"}\n",
        "numbers={1,2,3,4,5}\n",
        "print(flowers)\n",
        "print(numbers)"
      ],
      "metadata": {
        "colab": {
          "base_uri": "https://localhost:8080/"
        },
        "id": "yVIpoLJgBdV9",
        "outputId": "63e1925a-02d2-41fe-f5f1-34a92f1eea9d"
      },
      "execution_count": null,
      "outputs": [
        {
          "output_type": "stream",
          "name": "stdout",
          "text": [
            "{'lotus', 'sunflower', 'lilly', 'rose', 'jasmine'}\n",
            "{1, 2, 3, 4, 5}\n"
          ]
        }
      ]
    },
    {
      "cell_type": "code",
      "source": [
        ""
      ],
      "metadata": {
        "id": "wLkDy-veCNgZ"
      },
      "execution_count": null,
      "outputs": []
    }
  ]
}