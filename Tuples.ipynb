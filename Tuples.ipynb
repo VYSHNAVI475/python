{
  "nbformat": 4,
  "nbformat_minor": 0,
  "metadata": {
    "colab": {
      "name": "Tuples.ipynb",
      "provenance": [],
      "authorship_tag": "ABX9TyNdrrxPzQel/yDxpG5cQL+p",
      "include_colab_link": true
    },
    "kernelspec": {
      "name": "python3",
      "display_name": "Python 3"
    },
    "language_info": {
      "name": "python"
    }
  },
  "cells": [
    {
      "cell_type": "markdown",
      "metadata": {
        "id": "view-in-github",
        "colab_type": "text"
      },
      "source": [
        "<a href=\"https://colab.research.google.com/github/VYSHNAVI475/python/blob/main/Tuples.ipynb\" target=\"_parent\"><img src=\"https://colab.research.google.com/assets/colab-badge.svg\" alt=\"Open In Colab\"/></a>"
      ]
    },
    {
      "cell_type": "markdown",
      "source": [
        "## basic"
      ],
      "metadata": {
        "id": "aokQ_GSO9a2w"
      }
    },
    {
      "cell_type": "code",
      "source": [
        "dress=(\"frock\",\"skirt\",\"jeans\",\"tops\",\"saree\")\n",
        "print(dress)"
      ],
      "metadata": {
        "colab": {
          "base_uri": "https://localhost:8080/"
        },
        "id": "y6fVEtDd9o6d",
        "outputId": "5d6aa8b0-6524-4517-f35b-f6c21ac5e29b"
      },
      "execution_count": null,
      "outputs": [
        {
          "output_type": "stream",
          "name": "stdout",
          "text": [
            "('frock', 'skirt', 'jeans', 'tops', 'saree')\n"
          ]
        }
      ]
    },
    {
      "cell_type": "markdown",
      "source": [
        "## length"
      ],
      "metadata": {
        "id": "IT1DVytU-YcZ"
      }
    },
    {
      "cell_type": "code",
      "source": [
        "dress=(\"frock\",\"skirt\",\"jeans\",\"tops\",\"saree\")\n",
        "print(len(dress))"
      ],
      "metadata": {
        "colab": {
          "base_uri": "https://localhost:8080/"
        },
        "id": "BJqaIQbC-fvR",
        "outputId": "27e3ed7c-0d01-4b4d-fd76-900818dadb4a"
      },
      "execution_count": null,
      "outputs": [
        {
          "output_type": "stream",
          "name": "stdout",
          "text": [
            "5\n"
          ]
        }
      ]
    },
    {
      "cell_type": "markdown",
      "source": [
        "## data types: string,boolean,int"
      ],
      "metadata": {
        "id": "Fr6iGBb_-3rE"
      }
    },
    {
      "cell_type": "code",
      "source": [
        "dretss=(\"frock\",\"skirt\",\"jeans\",\"tops\",\"saree\")\n",
        "price=(\"500\",\"1000\",\"1500\",\"2000\",\"2500\")\n",
        "boolean=(\"true\",\"false\")\n",
        "print(price)\n",
        "print(dress)\n",
        "print(boolean)"
      ],
      "metadata": {
        "colab": {
          "base_uri": "https://localhost:8080/"
        },
        "id": "Vy9kqodB-_3R",
        "outputId": "e74ba126-dbba-4604-b844-c982e0b9554c"
      },
      "execution_count": null,
      "outputs": [
        {
          "output_type": "stream",
          "name": "stdout",
          "text": [
            "('500', '1000', '1500', '2000', '2500')\n",
            "('frock', 'skirt', 'jeans', 'tops', 'saree')\n",
            "('true', 'false')\n"
          ]
        }
      ]
    },
    {
      "cell_type": "markdown",
      "source": [
        "## type"
      ],
      "metadata": {
        "id": "3hKkuciEADQR"
      }
    },
    {
      "cell_type": "code",
      "source": [
        "dress=(\"frock\",\"skirt\",\"jeans\",\"tops\",\"saree\")\n",
        "print(type(dress))"
      ],
      "metadata": {
        "colab": {
          "base_uri": "https://localhost:8080/"
        },
        "id": "tcm7RQeZM77d",
        "outputId": "d951e628-bf06-49db-8a1f-42818a40b450"
      },
      "execution_count": null,
      "outputs": [
        {
          "output_type": "stream",
          "name": "stdout",
          "text": [
            "<class 'tuple'>\n"
          ]
        }
      ]
    },
    {
      "cell_type": "markdown",
      "source": [
        "## tuple constructor"
      ],
      "metadata": {
        "id": "2tPxxurGNMOq"
      }
    },
    {
      "cell_type": "code",
      "source": [
        "outfit=tuple((\"long\",\"mini\",\"midi\",\"maxi\"))\n",
        "print(outfit)"
      ],
      "metadata": {
        "colab": {
          "base_uri": "https://localhost:8080/"
        },
        "id": "hFS3LtA8NSFG",
        "outputId": "ea39c7b2-3e53-4937-bcd1-84aeff454826"
      },
      "execution_count": null,
      "outputs": [
        {
          "output_type": "stream",
          "name": "stdout",
          "text": [
            "('long', 'mini', 'midi', 'maxi')\n"
          ]
        }
      ]
    },
    {
      "cell_type": "markdown",
      "source": [
        "# Access Tuples"
      ],
      "metadata": {
        "id": "O2_ne-ODN3cv"
      }
    },
    {
      "cell_type": "code",
      "source": [
        "outfit=(\"dress\",\"skirt\",\"jeans\",\"tops\",\"saree\")\n",
        "print(outfit[2])"
      ],
      "metadata": {
        "colab": {
          "base_uri": "https://localhost:8080/"
        },
        "id": "dd5w_qP9N9Yo",
        "outputId": "c6a0b2ff-e9ca-44d2-ade4-b11981728942"
      },
      "execution_count": null,
      "outputs": [
        {
          "output_type": "stream",
          "name": "stdout",
          "text": [
            "jeans\n"
          ]
        }
      ]
    },
    {
      "cell_type": "markdown",
      "source": [
        "## negative indexing"
      ],
      "metadata": {
        "id": "bVfzMojhOagJ"
      }
    },
    {
      "cell_type": "code",
      "source": [
        "outfit=(\"dress\",\"skirt\",\"jeans\",\"tops\",\"saree\")\n",
        "print(outfit[-1])"
      ],
      "metadata": {
        "colab": {
          "base_uri": "https://localhost:8080/"
        },
        "id": "i0ZYORRsOeNo",
        "outputId": "4432efd0-81ec-473f-dcf2-d1493f478f42"
      },
      "execution_count": null,
      "outputs": [
        {
          "output_type": "stream",
          "name": "stdout",
          "text": [
            "saree\n"
          ]
        }
      ]
    },
    {
      "cell_type": "markdown",
      "source": [
        "## range of indexes"
      ],
      "metadata": {
        "id": "ZizME44cOtDm"
      }
    },
    {
      "cell_type": "code",
      "source": [
        "outfit=(\"dress\",\"skirt\",\"jeans\",\"tops\",\"saree\")\n",
        "print(outfit[2:5])"
      ],
      "metadata": {
        "colab": {
          "base_uri": "https://localhost:8080/"
        },
        "id": "Ybtie4eCOwhe",
        "outputId": "a40d5a88-e2af-4165-8e0d-728b8f3dd0e7"
      },
      "execution_count": null,
      "outputs": [
        {
          "output_type": "stream",
          "name": "stdout",
          "text": [
            "('jeans', 'tops', 'saree')\n"
          ]
        }
      ]
    },
    {
      "cell_type": "code",
      "source": [
        "outfit=(\"dress\",\"skirt\",\"jeans\",\"tops\",\"saree\")\n",
        "print(outfit[1:])"
      ],
      "metadata": {
        "colab": {
          "base_uri": "https://localhost:8080/"
        },
        "id": "lNjLirsyPTLG",
        "outputId": "5c9915ac-6a9f-4a71-bbde-e8882c80ce67"
      },
      "execution_count": null,
      "outputs": [
        {
          "output_type": "stream",
          "name": "stdout",
          "text": [
            "('skirt', 'jeans', 'tops', 'saree')\n"
          ]
        }
      ]
    },
    {
      "cell_type": "code",
      "source": [
        "outfit=(\"dress\",\"skirt\",\"jeans\",\"tops\",\"saree\")\n",
        "print(outfit[:4])"
      ],
      "metadata": {
        "colab": {
          "base_uri": "https://localhost:8080/"
        },
        "id": "rnttAZyTPp83",
        "outputId": "feba4195-68ab-477b-9f96-a09ab61d7fd0"
      },
      "execution_count": null,
      "outputs": [
        {
          "output_type": "stream",
          "name": "stdout",
          "text": [
            "('dress', 'skirt', 'jeans', 'tops')\n"
          ]
        }
      ]
    },
    {
      "cell_type": "markdown",
      "source": [
        "## negative range of indexes"
      ],
      "metadata": {
        "id": "24ObTxaIP9mY"
      }
    },
    {
      "cell_type": "code",
      "source": [
        "outfit=(\"dress\",\"skirt\",\"jeans\",\"tops\",\"saree\")\n",
        "print(outfit[-4:-1])"
      ],
      "metadata": {
        "colab": {
          "base_uri": "https://localhost:8080/"
        },
        "id": "BMxdD8N7QEwu",
        "outputId": "3b96b7af-e067-4e09-b86e-d6281e93a255"
      },
      "execution_count": null,
      "outputs": [
        {
          "output_type": "stream",
          "name": "stdout",
          "text": [
            "('skirt', 'jeans', 'tops')\n"
          ]
        }
      ]
    },
    {
      "cell_type": "markdown",
      "source": [
        "## check if exists"
      ],
      "metadata": {
        "id": "FLShQzv0Q_vB"
      }
    },
    {
      "cell_type": "code",
      "source": [
        "outfit=(\"dress\",\"skirt\",\"jeans\",\"tops\",\"saree\")"
      ],
      "metadata": {
        "id": "uSvTDEcrRJhU"
      },
      "execution_count": null,
      "outputs": []
    },
    {
      "cell_type": "markdown",
      "source": [
        "# Update Tuples"
      ],
      "metadata": {
        "id": "-tGwmJLytQHM"
      }
    },
    {
      "cell_type": "markdown",
      "source": [
        "## tuple to list to tuple"
      ],
      "metadata": {
        "id": "6CJh1FuAv5YI"
      }
    },
    {
      "cell_type": "code",
      "source": [
        "country=(\"india\",\"japan\",\"bhutan\",\"nepal\",\"china\")\n",
        "continent=list(country)\n",
        "continent[1]=\"iran\"\n",
        "country=tuple(continent)\n",
        "print(country)"
      ],
      "metadata": {
        "id": "Rl6-z0NUv8r6",
        "colab": {
          "base_uri": "https://localhost:8080/"
        },
        "outputId": "2831c462-3c6d-4cfc-c8c2-da613385e0e0"
      },
      "execution_count": null,
      "outputs": [
        {
          "output_type": "stream",
          "name": "stdout",
          "text": [
            "('india', 'iran', 'bhutan', 'nepal', 'china')\n"
          ]
        }
      ]
    },
    {
      "cell_type": "markdown",
      "source": [
        "# addition of items"
      ],
      "metadata": {
        "id": "EKbGMX1Ax1vO"
      }
    },
    {
      "cell_type": "markdown",
      "source": [
        "## using append or insert"
      ],
      "metadata": {
        "id": "f8jOIPmqyUbh"
      }
    },
    {
      "cell_type": "code",
      "source": [
        "branch=(\"csbs\",\"bba\",\"law\",\"aiml\",\"cse\")\n",
        "y=list(branch)\n",
        "y.append(\"bcom\")\n",
        "branch=tuple(y)\n",
        "print(branch)"
      ],
      "metadata": {
        "colab": {
          "base_uri": "https://localhost:8080/"
        },
        "id": "USKGBh6Ax6fc",
        "outputId": "c9c159c9-8e26-4f73-969c-23c02f27bfe0"
      },
      "execution_count": null,
      "outputs": [
        {
          "output_type": "stream",
          "name": "stdout",
          "text": [
            "('csbs', 'bba', 'law', 'aiml', 'cse', 'bcom')\n"
          ]
        }
      ]
    },
    {
      "cell_type": "code",
      "source": [
        "branch=(\"law\",\"bba\",\"csbs\",\"aiml\",\"cse\")\n",
        "y=list(branch)\n",
        "y.insert(2,\"bcom\")\n",
        "branch=tuple(y)\n",
        "print(branch)"
      ],
      "metadata": {
        "colab": {
          "base_uri": "https://localhost:8080/"
        },
        "id": "TL90CLliy2-G",
        "outputId": "13c92607-30ca-47b9-c840-e1972e00f8d2"
      },
      "execution_count": null,
      "outputs": [
        {
          "output_type": "stream",
          "name": "stdout",
          "text": [
            "('law', 'bba', 'bcom', 'csbs', 'aiml', 'cse')\n"
          ]
        }
      ]
    },
    {
      "cell_type": "markdown",
      "source": [
        "## addition of tuple to tuple"
      ],
      "metadata": {
        "id": "ZHrjpT5VzTRz"
      }
    },
    {
      "cell_type": "code",
      "source": [
        "branch=(\"law\",\"bba\",\"csbs\",\"aiml\",\"cse\")\n",
        "y=(\"bcom\",\"bds\")\n",
        "branch += y\n",
        "print(branch)"
      ],
      "metadata": {
        "colab": {
          "base_uri": "https://localhost:8080/"
        },
        "id": "55xoE4sMza7k",
        "outputId": "c6029937-e9da-4df7-8d96-87348cabbdef"
      },
      "execution_count": null,
      "outputs": [
        {
          "output_type": "stream",
          "name": "stdout",
          "text": [
            "('law', 'bba', 'csbs', 'aiml', 'cse', 'bcom', 'bds')\n"
          ]
        }
      ]
    },
    {
      "cell_type": "markdown",
      "source": [
        "## removal of items"
      ],
      "metadata": {
        "id": "LcREJxgxz80y"
      }
    },
    {
      "cell_type": "code",
      "source": [
        "branch=(\"law\",\"bba\",\"csbs\",\"aiml\",\"cse\")\n",
        "y=list(branch)\n",
        "y.remove(\"csbs\")\n",
        "branch=tuple(y)\n",
        "print(branch)"
      ],
      "metadata": {
        "colab": {
          "base_uri": "https://localhost:8080/"
        },
        "id": "yK7eXaK80Awe",
        "outputId": "a7b675f3-9fd0-448f-a29f-3992789168ff"
      },
      "execution_count": null,
      "outputs": [
        {
          "output_type": "stream",
          "name": "stdout",
          "text": [
            "('law', 'bba', 'aiml', 'cse')\n"
          ]
        }
      ]
    },
    {
      "cell_type": "markdown",
      "source": [
        "# delete the tuple"
      ],
      "metadata": {
        "id": "9ogBO6GF1eDU"
      }
    },
    {
      "cell_type": "code",
      "source": [
        "branch=(\"law\",\"bba\",\"csbs\",\"aiml\",\"cse\")\n",
        "del branch\n"
      ],
      "metadata": {
        "id": "ms9C2TMJ1gz9"
      },
      "execution_count": null,
      "outputs": []
    },
    {
      "cell_type": "markdown",
      "source": [
        "# Unpacking Of Tuples"
      ],
      "metadata": {
        "id": "9YEDWTmN3jq5"
      }
    },
    {
      "cell_type": "code",
      "source": [
        "branch=(\"law\",\"bba\",\"csbs\",\"aiml\",\"cse\")\n",
        "(a,b,c,d,e)=branch\n",
        "print(a)\n",
        "print(b)\n",
        "print(c)\n",
        "print(d)\n",
        "print(e)"
      ],
      "metadata": {
        "colab": {
          "base_uri": "https://localhost:8080/"
        },
        "id": "zP8TzKth3qVo",
        "outputId": "2fc1cf96-0a6f-458a-ca9b-ef119b3c6838"
      },
      "execution_count": null,
      "outputs": [
        {
          "output_type": "stream",
          "name": "stdout",
          "text": [
            "law\n",
            "bba\n",
            "csbs\n",
            "aiml\n",
            "cse\n"
          ]
        }
      ]
    },
    {
      "cell_type": "markdown",
      "source": [
        "## using asterix "
      ],
      "metadata": {
        "id": "0eHumfo34Onz"
      }
    },
    {
      "cell_type": "code",
      "source": [
        "branch=(\"law\",\"bba\",\"csbs\",\"aiml\",\"cse\")\n",
        "(a,b,*c)=branch\n",
        "print(a)\n",
        "print(b)\n",
        "print(*c)"
      ],
      "metadata": {
        "colab": {
          "base_uri": "https://localhost:8080/"
        },
        "id": "QiM9vO1V5gcA",
        "outputId": "c4cd02f1-5195-4848-c0cf-5a27f49036be"
      },
      "execution_count": null,
      "outputs": [
        {
          "output_type": "stream",
          "name": "stdout",
          "text": [
            "law\n",
            "bba\n",
            "csbs aiml cse\n"
          ]
        }
      ]
    },
    {
      "cell_type": "code",
      "source": [
        "branch=(\"law\",\"bba\",\"csbs\",\"aiml\",\"cse\")\n",
        "(a,*b,c)=branch\n",
        "print(a)\n",
        "print(*b)\n",
        "print(c)"
      ],
      "metadata": {
        "colab": {
          "base_uri": "https://localhost:8080/"
        },
        "id": "tLNYgCnd6r7x",
        "outputId": "bd4a49d4-59d2-43c2-bb1a-dba45ad824a2"
      },
      "execution_count": null,
      "outputs": [
        {
          "output_type": "stream",
          "name": "stdout",
          "text": [
            "law\n",
            "bba csbs aiml\n",
            "cse\n"
          ]
        }
      ]
    },
    {
      "cell_type": "markdown",
      "source": [
        "# Loop Tuples"
      ],
      "metadata": {
        "id": "htIxtjDM63br"
      }
    },
    {
      "cell_type": "markdown",
      "source": [
        "## for loop"
      ],
      "metadata": {
        "id": "WYr-EmSw69dk"
      }
    },
    {
      "cell_type": "code",
      "source": [
        "branch=(\"law\",\"bba\",\"csbs\",\"aiml\",\"cse\")\n",
        "for x in branch:\n",
        "  print(x)"
      ],
      "metadata": {
        "colab": {
          "base_uri": "https://localhost:8080/"
        },
        "id": "lMmNxb8D67UL",
        "outputId": "334ca9fb-b360-4f93-df52-49e25fe6c511"
      },
      "execution_count": null,
      "outputs": [
        {
          "output_type": "stream",
          "name": "stdout",
          "text": [
            "law\n",
            "bba\n",
            "csbs\n",
            "aiml\n",
            "cse\n"
          ]
        }
      ]
    },
    {
      "cell_type": "markdown",
      "source": [
        "### loop through index numbers"
      ],
      "metadata": {
        "id": "pnWksSWB7Zkh"
      }
    },
    {
      "cell_type": "markdown",
      "source": [
        "#### range() and len()"
      ],
      "metadata": {
        "id": "prRsDLVX7hHc"
      }
    },
    {
      "cell_type": "code",
      "source": [
        "branch=(\"law\",\"bba\",\"csbs\",\"aiml\",\"cse\")\n",
        "for i in range(len(branch)):\n",
        "  print(branch[i])"
      ],
      "metadata": {
        "colab": {
          "base_uri": "https://localhost:8080/"
        },
        "id": "NMPikuIx7jsd",
        "outputId": "1631e987-f8f4-4d08-9fcb-705eacb43420"
      },
      "execution_count": null,
      "outputs": [
        {
          "output_type": "stream",
          "name": "stdout",
          "text": [
            "law\n",
            "bba\n",
            "csbs\n",
            "aiml\n",
            "cse\n"
          ]
        }
      ]
    },
    {
      "cell_type": "markdown",
      "source": [
        "## while loop"
      ],
      "metadata": {
        "id": "xmbzFo-L8Lpq"
      }
    },
    {
      "cell_type": "code",
      "source": [
        ""
      ],
      "metadata": {
        "id": "QZB-fKHG8XUu"
      },
      "execution_count": null,
      "outputs": []
    }
  ]
}