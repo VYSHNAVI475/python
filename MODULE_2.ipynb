{
  "nbformat": 4,
  "nbformat_minor": 0,
  "metadata": {
    "colab": {
      "name": "MODULE 2.ipynb",
      "provenance": [],
      "authorship_tag": "ABX9TyPsnJUHivS3bJJ0fJ53KCF/",
      "include_colab_link": true
    },
    "kernelspec": {
      "name": "python3",
      "display_name": "Python 3"
    },
    "language_info": {
      "name": "python"
    }
  },
  "cells": [
    {
      "cell_type": "markdown",
      "metadata": {
        "id": "view-in-github",
        "colab_type": "text"
      },
      "source": [
        "<a href=\"https://colab.research.google.com/github/VYSHNAVI475/python/blob/main/MODULE_2.ipynb\" target=\"_parent\"><img src=\"https://colab.research.google.com/assets/colab-badge.svg\" alt=\"Open In Colab\"/></a>"
      ]
    },
    {
      "cell_type": "markdown",
      "source": [
        "# MODULE 2"
      ],
      "metadata": {
        "id": "-oMpLEb0ok4e"
      }
    },
    {
      "cell_type": "markdown",
      "source": [
        "## Create a function which accepts two inputs from the user and compute n^Cr"
      ],
      "metadata": {
        "id": "t3fvFMbipF03"
      }
    },
    {
      "cell_type": "code",
      "source": [
        "def nCr(n,r):\n",
        "  return(fact(n)/(fact(r)*fact(n-r)))\n",
        "def fact(n):\n",
        "  res = 1\n",
        "  for i in range(2,n+1):\n",
        "    res =res*i\n",
        "  return res\n",
        "n=int(input())\n",
        "r=int(input())    \n",
        "\n",
        "    \n",
        "    \n",
        "print(int(nCr(n,r)))"
      ],
      "metadata": {
        "colab": {
          "base_uri": "https://localhost:8080/"
        },
        "id": "jAbq8eL7rsnh",
        "outputId": "4e07a1b9-c5b0-4dd6-ed4f-5e6c809c87d3"
      },
      "execution_count": null,
      "outputs": [
        {
          "output_type": "stream",
          "name": "stdout",
          "text": [
            "5\n",
            "2\n",
            "10\n"
          ]
        }
      ]
    },
    {
      "cell_type": "markdown",
      "source": [
        "## Program to print a specified list after removing the 0th, 4th and 5th elements.Sample List : ['Red', 'Green', 'White', 'Black', 'Pink', 'Yellow']Expected Output : ['Green', 'White', 'Black']"
      ],
      "metadata": {
        "id": "IzQ3mfens9ev"
      }
    },
    {
      "cell_type": "code",
      "source": [
        "c = [\"red\",\"green\",\"white\",\"black\",\"pink\",\"yellow\"] \n",
        "del c[5]\n",
        "del c[4]\n",
        "del c[0]\n",
        "print(c)              "
      ],
      "metadata": {
        "colab": {
          "base_uri": "https://localhost:8080/"
        },
        "id": "YVc-3Gt1tLPP",
        "outputId": "7c5eddbb-a923-4065-95e8-b15b76769a6a"
      },
      "execution_count": null,
      "outputs": [
        {
          "output_type": "stream",
          "name": "stdout",
          "text": [
            "['green', 'white', 'black']\n"
          ]
        }
      ]
    }
  ]
}