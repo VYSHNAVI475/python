{
  "nbformat": 4,
  "nbformat_minor": 0,
  "metadata": {
    "colab": {
      "name": "FUNCTIONS.ipynb",
      "provenance": [],
      "authorship_tag": "ABX9TyN2Uldb7MrbppoiSvrKKXpe",
      "include_colab_link": true
    },
    "kernelspec": {
      "name": "python3",
      "display_name": "Python 3"
    },
    "language_info": {
      "name": "python"
    }
  },
  "cells": [
    {
      "cell_type": "markdown",
      "metadata": {
        "id": "view-in-github",
        "colab_type": "text"
      },
      "source": [
        "<a href=\"https://colab.research.google.com/github/VYSHNAVI475/python/blob/main/FUNCTIONS.ipynb\" target=\"_parent\"><img src=\"https://colab.research.google.com/assets/colab-badge.svg\" alt=\"Open In Colab\"/></a>"
      ]
    },
    {
      "cell_type": "markdown",
      "source": [
        "# FUNCTIONS BASIC\n"
      ],
      "metadata": {
        "id": "MJ68SkS7VbqE"
      }
    },
    {
      "cell_type": "code",
      "source": [
        "def my_name():\n",
        "  print(\"vyshu\")\n",
        "my_name()"
      ],
      "metadata": {
        "colab": {
          "base_uri": "https://localhost:8080/"
        },
        "id": "ieOgG9LXVf0D",
        "outputId": "cfec8c95-7fb1-461b-aab1-4ba4d47f4cc2"
      },
      "execution_count": null,
      "outputs": [
        {
          "output_type": "stream",
          "name": "stdout",
          "text": [
            "vyshu\n"
          ]
        }
      ]
    },
    {
      "cell_type": "markdown",
      "source": [
        "## Arguments"
      ],
      "metadata": {
        "id": "1ukL93wxV-FO"
      }
    },
    {
      "cell_type": "code",
      "source": [
        "def my_name(myname):\n",
        "  print(myname + \"'s\")\n",
        "my_name(\"vyshu\")\n",
        "my_name(\"chinni\")\n",
        "my_name(\"vedesh\")\n",
        "my_name(\"puppy\")\n",
        "my_name(\"abhi\")"
      ],
      "metadata": {
        "colab": {
          "base_uri": "https://localhost:8080/"
        },
        "id": "rYppOBcNXAJr",
        "outputId": "7b5fb5df-8fda-4c29-8386-15cc8fd68668"
      },
      "execution_count": null,
      "outputs": [
        {
          "output_type": "stream",
          "name": "stdout",
          "text": [
            "vyshu's\n",
            "chinni's\n",
            "vedesh's\n",
            "puppy's\n",
            "abhi's\n"
          ]
        }
      ]
    },
    {
      "cell_type": "code",
      "source": [
        "def votting(g,n,a):\n",
        "  print(g + \"female\")\n",
        "  print(n + \"siri\")\n",
        "  print(a + \"18\")"
      ],
      "metadata": {
        "id": "TSwKBd-3aFN2"
      },
      "execution_count": null,
      "outputs": []
    },
    {
      "cell_type": "code",
      "source": [
        "def my_name(myname, lname):\n",
        "  print(myname + \" \" + lname)\n",
        "my_name(\"vyshu\",\"lu\")"
      ],
      "metadata": {
        "colab": {
          "base_uri": "https://localhost:8080/"
        },
        "id": "YIzfyfUFczpm",
        "outputId": "2a85b1f6-30ef-4495-9fa7-d8597204d740"
      },
      "execution_count": null,
      "outputs": [
        {
          "output_type": "stream",
          "name": "stdout",
          "text": [
            "vyshu lu\n"
          ]
        }
      ]
    },
    {
      "cell_type": "code",
      "source": [
        "def my_name(mname, lname):\n",
        "  print(mname + \" \" + lname)\n",
        "my_name(\"vyshu\")"
      ],
      "metadata": {
        "colab": {
          "base_uri": "https://localhost:8080/",
          "height": 200
        },
        "id": "LEsePlVSdfx-",
        "outputId": "1eb66386-e7f4-411e-f31b-5e6970887f54"
      },
      "execution_count": null,
      "outputs": [
        {
          "output_type": "error",
          "ename": "TypeError",
          "evalue": "ignored",
          "traceback": [
            "\u001b[0;31m---------------------------------------------------------------------------\u001b[0m",
            "\u001b[0;31mTypeError\u001b[0m                                 Traceback (most recent call last)",
            "\u001b[0;32m<ipython-input-20-95ed3ebe0b96>\u001b[0m in \u001b[0;36m<module>\u001b[0;34m()\u001b[0m\n\u001b[1;32m      1\u001b[0m \u001b[0;32mdef\u001b[0m \u001b[0mmy_name\u001b[0m\u001b[0;34m(\u001b[0m\u001b[0mmname\u001b[0m\u001b[0;34m,\u001b[0m \u001b[0mlname\u001b[0m\u001b[0;34m)\u001b[0m\u001b[0;34m:\u001b[0m\u001b[0;34m\u001b[0m\u001b[0;34m\u001b[0m\u001b[0m\n\u001b[1;32m      2\u001b[0m   \u001b[0mprint\u001b[0m\u001b[0;34m(\u001b[0m\u001b[0mmname\u001b[0m \u001b[0;34m+\u001b[0m \u001b[0;34m\" \"\u001b[0m \u001b[0;34m+\u001b[0m \u001b[0mlname\u001b[0m\u001b[0;34m)\u001b[0m\u001b[0;34m\u001b[0m\u001b[0;34m\u001b[0m\u001b[0m\n\u001b[0;32m----> 3\u001b[0;31m \u001b[0mmy_name\u001b[0m\u001b[0;34m(\u001b[0m\u001b[0;34m\"vyshu\"\u001b[0m\u001b[0;34m)\u001b[0m\u001b[0;34m\u001b[0m\u001b[0;34m\u001b[0m\u001b[0m\n\u001b[0m",
            "\u001b[0;31mTypeError\u001b[0m: my_name() missing 1 required positional argument: 'lname'"
          ]
        }
      ]
    },
    {
      "cell_type": "code",
      "source": [
        "def my_name(*kids):\n",
        "  print(\"The youngest child is \" + kids[2])\n",
        "\n",
        "my_name(\"Emil\", \"Tobias\", \"Linus\")"
      ],
      "metadata": {
        "id": "QSzC07Eae0ev",
        "colab": {
          "base_uri": "https://localhost:8080/"
        },
        "outputId": "a39ac681-f1f5-4224-b496-9a78584a907d"
      },
      "execution_count": null,
      "outputs": [
        {
          "output_type": "stream",
          "name": "stdout",
          "text": [
            "The youngest child is Linus\n"
          ]
        }
      ]
    }
  ]
}